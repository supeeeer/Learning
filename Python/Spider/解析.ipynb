{
 "cells": [
  {
   "cell_type": "markdown",
   "metadata": {
    "toc": true
   },
   "source": [
    "<h1>Table of Contents<span class=\"tocSkip\"></span></h1>\n",
    "<div class=\"toc\"><ul class=\"toc-item\"><li><span><a href=\"#解析库\" data-toc-modified-id=\"解析库-1\"><span class=\"toc-item-num\">1&nbsp;&nbsp;</span>解析库</a></span><ul class=\"toc-item\"><li><span><a href=\"#lxml\" data-toc-modified-id=\"lxml-1.1\"><span class=\"toc-item-num\">1.1&nbsp;&nbsp;</span>lxml</a></span></li><li><span><a href=\"#Beautiful-Soup\" data-toc-modified-id=\"Beautiful-Soup-1.2\"><span class=\"toc-item-num\">1.2&nbsp;&nbsp;</span>Beautiful Soup</a></span></li><li><span><a href=\"#pyquery\" data-toc-modified-id=\"pyquery-1.3\"><span class=\"toc-item-num\">1.3&nbsp;&nbsp;</span>pyquery</a></span></li></ul></li><li><span><a href=\"#验证码\" data-toc-modified-id=\"验证码-2\"><span class=\"toc-item-num\">2&nbsp;&nbsp;</span>验证码</a></span><ul class=\"toc-item\"><li><span><a href=\"#图形ORC\" data-toc-modified-id=\"图形ORC-2.1\"><span class=\"toc-item-num\">2.1&nbsp;&nbsp;</span>图形ORC</a></span></li><li><span><a href=\"#识别库\" data-toc-modified-id=\"识别库-2.2\"><span class=\"toc-item-num\">2.2&nbsp;&nbsp;</span>识别库</a></span><ul class=\"toc-item\"><li><span><a href=\"#tesserocr\" data-toc-modified-id=\"tesserocr-2.2.1\"><span class=\"toc-item-num\">2.2.1&nbsp;&nbsp;</span>tesserocr</a></span></li></ul></li></ul></li></ul></div>"
   ]
  },
  {
   "cell_type": "markdown",
   "metadata": {},
   "source": [
    "抓取网页代码之后，下一步就是从网页中提取信息。\n",
    "\n",
    "1. 正则提取，但是写起来相对比较烦琐\n",
    "2. 使用解析库，如 lxml、Beautiful Soup、pyquery 等\n",
    "3. 非常强大的解析方法，如 XPath 解析和 CSS 选择器解析等"
   ]
  },
  {
   "cell_type": "markdown",
   "metadata": {},
   "source": [
    "- XPath：使用路径表达式来选取 XML 文档中的节点或节点集。节点是通过沿着路径 (path) 或者步 (steps) 来选取的\n",
    "\n",
    "    https://www.w3school.com.cn/xpath/xpath_syntax.asp"
   ]
  },
  {
   "cell_type": "markdown",
   "metadata": {},
   "source": [
    "# 解析库"
   ]
  },
  {
   "cell_type": "markdown",
   "metadata": {},
   "source": [
    "## lxml\n",
    "lxml 支持 HTML 和 XML 的解析，支持 XPath 解析方式，而且解析效率非常高"
   ]
  },
  {
   "cell_type": "markdown",
   "metadata": {},
   "source": [
    "## Beautiful Soup \n",
    "Beautiful Soup 是 HTML 或 XML 的解析库，它拥有强大的 API 和多样的解析方式"
   ]
  },
  {
   "cell_type": "markdown",
   "metadata": {},
   "source": [
    "## pyquery\n",
    "pyquery 提供了和 jQuery 类似的语法来解析 HTML 文档，支持 CSS 选择器"
   ]
  }
 ],
 "metadata": {
  "hide_input": false,
  "kernelspec": {
   "display_name": "Python 3",
   "language": "python",
   "name": "python3"
  },
  "language_info": {
   "codemirror_mode": {
    "name": "ipython",
    "version": 3
   },
   "file_extension": ".py",
   "mimetype": "text/x-python",
   "name": "python",
   "nbconvert_exporter": "python",
   "pygments_lexer": "ipython3",
   "version": "3.7.3"
  },
  "latex_envs": {
   "LaTeX_envs_menu_present": true,
   "autoclose": true,
   "autocomplete": true,
   "bibliofile": "biblio.bib",
   "cite_by": "apalike",
   "current_citInitial": 1,
   "eqLabelWithNumbers": true,
   "eqNumInitial": 1,
   "hotkeys": {
    "equation": "Ctrl-E",
    "itemize": "Ctrl-I"
   },
   "labels_anchors": false,
   "latex_user_defs": false,
   "report_style_numbering": false,
   "user_envs_cfg": false
  },
  "nbTranslate": {
   "displayLangs": [
    "*"
   ],
   "hotkey": "alt-t",
   "langInMainMenu": true,
   "sourceLang": "en",
   "targetLang": "fr",
   "useGoogleTranslate": true
  },
  "toc": {
   "base_numbering": 1,
   "nav_menu": {},
   "number_sections": true,
   "sideBar": true,
   "skip_h1_title": false,
   "title_cell": "Table of Contents",
   "title_sidebar": "Contents",
   "toc_cell": true,
   "toc_position": {},
   "toc_section_display": true,
   "toc_window_display": false
  },
  "varInspector": {
   "cols": {
    "lenName": 16,
    "lenType": 16,
    "lenVar": 40
   },
   "kernels_config": {
    "python": {
     "delete_cmd_postfix": "",
     "delete_cmd_prefix": "del ",
     "library": "var_list.py",
     "varRefreshCmd": "print(var_dic_list())"
    },
    "r": {
     "delete_cmd_postfix": ") ",
     "delete_cmd_prefix": "rm(",
     "library": "var_list.r",
     "varRefreshCmd": "cat(var_dic_list()) "
    }
   },
   "types_to_exclude": [
    "module",
    "function",
    "builtin_function_or_method",
    "instance",
    "_Feature"
   ],
   "window_display": false
  }
 },
 "nbformat": 4,
 "nbformat_minor": 2
}
