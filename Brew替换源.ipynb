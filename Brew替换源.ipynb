{
 "cells": [
  {
   "cell_type": "markdown",
   "metadata": {
    "toc": true
   },
   "source": [
    "<h1>Table of Contents<span class=\"tocSkip\"></span></h1>\n",
    "<div class=\"toc\"><ul class=\"toc-item\"><li><span><a href=\"#替换-/-还原-brew.git-仓库地址\" data-toc-modified-id=\"替换-/-还原-brew.git-仓库地址-1\"><span class=\"toc-item-num\">1&nbsp;&nbsp;</span>替换 / 还原 brew.git 仓库地址</a></span></li><li><span><a href=\"#替换-/-还原-homebrew-core.git-仓库地址\" data-toc-modified-id=\"替换-/-还原-homebrew-core.git-仓库地址-2\"><span class=\"toc-item-num\">2&nbsp;&nbsp;</span>替换 / 还原 homebrew-core.git 仓库地址</a></span></li><li><span><a href=\"#替换-/-还原-homebrew-bottles-访问地址\" data-toc-modified-id=\"替换-/-还原-homebrew-bottles-访问地址-3\"><span class=\"toc-item-num\">3&nbsp;&nbsp;</span>替换 / 还原 homebrew-bottles 访问地址</a></span></li></ul></div>"
   ]
  },
  {
   "cell_type": "markdown",
   "metadata": {},
   "source": [
    "参考：https://learnku.com/articles/18908"
   ]
  },
  {
   "cell_type": "markdown",
   "metadata": {},
   "source": [
    "# 替换 / 还原 brew.git 仓库地址\n",
    "\n",
    "```\n",
    "# 替换成阿里巴巴的 brew.git 仓库地址:\n",
    "cd \"$(brew --repo)\"\n",
    "git remote set-url origin https://mirrors.aliyun.com/homebrew/brew.git\n",
    "\n",
    "# 还原为官方提供的 brew.git 仓库地址\n",
    "cd \"$(brew --repo)\"\n",
    "git remote set-url origin https://github.com/Homebrew/brew.git\n",
    "```\n",
    "# 替换 / 还原 homebrew-core.git 仓库地址\n",
    "\n",
    "```\n",
    "# 替换成阿里巴巴的 homebrew-core.git 仓库地址\n",
    "cd \"$(brew --repo)/Library/Taps/homebrew/homebrew-core\"\n",
    "git remote set-url origin https://mirrors.aliyun.com/homebrew/homebrew-core.git\n",
    "\n",
    "# 还原为官方提供的 homebrew-core.git 仓库地址\n",
    "cd \"$(brew --repo)/Library/Taps/homebrew/homebrew-core\"\n",
    "git remote set-url origin https://github.com/Homebrew/homebrew-core.git\n",
    "```\n",
    "\n",
    "# 替换 / 还原 homebrew-bottles 访问地址\n",
    "\n",
    "```\n",
    "# 替换 homebrew-bottles 访问 URL:\n",
    "echo 'export HOMEBREW_BOTTLE_DOMAIN=https://mirrors.aliyun.com/homebrew/homebrew-bottles' >> ~/.bash_profile\n",
    "source ~/.bash_profile\n",
    "\n",
    "# 还原为官方提供的 homebrew-bottles 访问地址\n",
    "vi ~/.bash_profile\n",
    "# 然后，删除 HOMEBREW_BOTTLE_DOMAIN 这一行配置\n",
    "source ~/.bash_profile\n",
    "```"
   ]
  },
  {
   "cell_type": "code",
   "execution_count": null,
   "metadata": {},
   "outputs": [],
   "source": []
  }
 ],
 "metadata": {
  "hide_input": false,
  "kernelspec": {
   "display_name": "Python 3",
   "language": "python",
   "name": "python3"
  },
  "language_info": {
   "codemirror_mode": {
    "name": "ipython",
    "version": 3
   },
   "file_extension": ".py",
   "mimetype": "text/x-python",
   "name": "python",
   "nbconvert_exporter": "python",
   "pygments_lexer": "ipython3",
   "version": "3.7.3"
  },
  "latex_envs": {
   "LaTeX_envs_menu_present": true,
   "autoclose": true,
   "autocomplete": true,
   "bibliofile": "biblio.bib",
   "cite_by": "apalike",
   "current_citInitial": 1,
   "eqLabelWithNumbers": true,
   "eqNumInitial": 1,
   "hotkeys": {
    "equation": "Ctrl-E",
    "itemize": "Ctrl-I"
   },
   "labels_anchors": false,
   "latex_user_defs": false,
   "report_style_numbering": false,
   "user_envs_cfg": false
  },
  "nbTranslate": {
   "displayLangs": [
    "*"
   ],
   "hotkey": "alt-t",
   "langInMainMenu": true,
   "sourceLang": "en",
   "targetLang": "fr",
   "useGoogleTranslate": true
  },
  "toc": {
   "base_numbering": 1,
   "nav_menu": {},
   "number_sections": true,
   "sideBar": true,
   "skip_h1_title": false,
   "title_cell": "Table of Contents",
   "title_sidebar": "Contents",
   "toc_cell": true,
   "toc_position": {},
   "toc_section_display": true,
   "toc_window_display": false
  },
  "varInspector": {
   "cols": {
    "lenName": 16,
    "lenType": 16,
    "lenVar": 40
   },
   "kernels_config": {
    "python": {
     "delete_cmd_postfix": "",
     "delete_cmd_prefix": "del ",
     "library": "var_list.py",
     "varRefreshCmd": "print(var_dic_list())"
    },
    "r": {
     "delete_cmd_postfix": ") ",
     "delete_cmd_prefix": "rm(",
     "library": "var_list.r",
     "varRefreshCmd": "cat(var_dic_list()) "
    }
   },
   "types_to_exclude": [
    "module",
    "function",
    "builtin_function_or_method",
    "instance",
    "_Feature"
   ],
   "window_display": false
  }
 },
 "nbformat": 4,
 "nbformat_minor": 2
}
